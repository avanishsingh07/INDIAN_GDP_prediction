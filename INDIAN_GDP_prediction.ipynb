{
 "cells": [
  {
   "cell_type": "code",
   "execution_count": 1,
   "id": "e3935f55",
   "metadata": {},
   "outputs": [
    {
     "name": "stderr",
     "output_type": "stream",
     "text": [
      "<frozen importlib._bootstrap>:219: RuntimeWarning: scipy._lib.messagestream.MessageStream size changed, may indicate binary incompatibility. Expected 56 from C header, got 64 from PyObject\n"
     ]
    }
   ],
   "source": [
    "import pandas as pd\n",
    "import numpy as np\n",
    "import matplotlib.pyplot as plt\n",
    "import seaborn as sns"
   ]
  },
  {
   "cell_type": "code",
   "execution_count": 7,
   "id": "bbac1c55",
   "metadata": {},
   "outputs": [],
   "source": [
    "#country-names-and-codes.csv\n",
    "gdp=pd.read_csv('gdp_1960_2020.csv')\n",
    "contry_code=pd.read_csv('country-names-and-codes.csv')"
   ]
  },
  {
   "cell_type": "code",
   "execution_count": 8,
   "id": "7bc2630f",
   "metadata": {},
   "outputs": [
    {
     "data": {
      "text/html": [
       "<div>\n",
       "<style scoped>\n",
       "    .dataframe tbody tr th:only-of-type {\n",
       "        vertical-align: middle;\n",
       "    }\n",
       "\n",
       "    .dataframe tbody tr th {\n",
       "        vertical-align: top;\n",
       "    }\n",
       "\n",
       "    .dataframe thead th {\n",
       "        text-align: right;\n",
       "    }\n",
       "</style>\n",
       "<table border=\"1\" class=\"dataframe\">\n",
       "  <thead>\n",
       "    <tr style=\"text-align: right;\">\n",
       "      <th></th>\n",
       "      <th>year</th>\n",
       "      <th>rank</th>\n",
       "      <th>country</th>\n",
       "      <th>state</th>\n",
       "      <th>gdp</th>\n",
       "      <th>gdp_percent</th>\n",
       "    </tr>\n",
       "  </thead>\n",
       "  <tbody>\n",
       "    <tr>\n",
       "      <th>0</th>\n",
       "      <td>1960</td>\n",
       "      <td>1</td>\n",
       "      <td>the United States</td>\n",
       "      <td>America</td>\n",
       "      <td>543300000000</td>\n",
       "      <td>0.468483</td>\n",
       "    </tr>\n",
       "    <tr>\n",
       "      <th>1</th>\n",
       "      <td>1960</td>\n",
       "      <td>2</td>\n",
       "      <td>United Kingdom</td>\n",
       "      <td>Europe</td>\n",
       "      <td>73233967692</td>\n",
       "      <td>0.063149</td>\n",
       "    </tr>\n",
       "    <tr>\n",
       "      <th>2</th>\n",
       "      <td>1960</td>\n",
       "      <td>3</td>\n",
       "      <td>France</td>\n",
       "      <td>Europe</td>\n",
       "      <td>62225478000</td>\n",
       "      <td>0.053656</td>\n",
       "    </tr>\n",
       "    <tr>\n",
       "      <th>3</th>\n",
       "      <td>1960</td>\n",
       "      <td>4</td>\n",
       "      <td>China</td>\n",
       "      <td>Asia</td>\n",
       "      <td>59716467625</td>\n",
       "      <td>0.051493</td>\n",
       "    </tr>\n",
       "    <tr>\n",
       "      <th>4</th>\n",
       "      <td>1960</td>\n",
       "      <td>5</td>\n",
       "      <td>Japan</td>\n",
       "      <td>Asia</td>\n",
       "      <td>44307342950</td>\n",
       "      <td>0.038206</td>\n",
       "    </tr>\n",
       "  </tbody>\n",
       "</table>\n",
       "</div>"
      ],
      "text/plain": [
       "   year  rank            country    state           gdp  gdp_percent\n",
       "0  1960     1  the United States  America  543300000000     0.468483\n",
       "1  1960     2     United Kingdom   Europe   73233967692     0.063149\n",
       "2  1960     3             France   Europe   62225478000     0.053656\n",
       "3  1960     4              China     Asia   59716467625     0.051493\n",
       "4  1960     5              Japan     Asia   44307342950     0.038206"
      ]
     },
     "execution_count": 8,
     "metadata": {},
     "output_type": "execute_result"
    }
   ],
   "source": [
    "gdp.head()"
   ]
  },
  {
   "cell_type": "code",
   "execution_count": 9,
   "id": "7e597416",
   "metadata": {},
   "outputs": [
    {
     "data": {
      "text/plain": [
       "Index(['year', 'rank', 'country', 'state', 'gdp', 'gdp_percent'], dtype='object')"
      ]
     },
     "execution_count": 9,
     "metadata": {},
     "output_type": "execute_result"
    }
   ],
   "source": [
    "gdp.columns"
   ]
  },
  {
   "cell_type": "code",
   "execution_count": 11,
   "id": "1cef7209",
   "metadata": {},
   "outputs": [
    {
     "data": {
      "text/plain": [
       "array(['the United States', 'United Kingdom', 'France', 'China', 'Japan',\n",
       "       'Canada', 'Italy', 'India', 'Australia', 'Sweden', 'Brazil',\n",
       "       'Turkey', 'Mexico', 'Netherlands', 'Spain', 'Belgium',\n",
       "       'Switzerland', 'Venezuela', 'South Africa', 'Philippines',\n",
       "       'Austria', 'Denmark', 'New Zealand', 'Finland', 'Norway', 'Greece',\n",
       "       'Bangladesh', 'Iran', 'Nigeria', 'Chile', 'Columbia',\n",
       "       'South Korea', 'Pakistan', 'Congo (gold)', 'Portugal', 'Thailand',\n",
       "       'Algeria', 'Israel', 'Peru', 'Morocco', 'Ireland', 'Malaysia',\n",
       "       'Puerto Rico', 'Iraq', 'Sri Lanka', 'Hong Kong', 'Sudan',\n",
       "       'Uruguay', 'Garner', 'Zimbabwe', 'Guatemala', 'Ecuador', 'Syria',\n",
       "       'Senegal', 'Kenya', 'Zambia', 'Singapore', 'Luxembourg', 'Jamaica',\n",
       "       'Madagascar', 'Dominica', 'Cambodia', 'Cameroon', 'Bolivia',\n",
       "       \"C ô te d'Ivoire\", 'Afghanistan', 'Panama', 'Trinidad and Tobago',\n",
       "       'Nepal', 'Costa Rica', 'Niger', 'Uganda', 'Honduras',\n",
       "       'Burkina Faso', 'Sierra Leone', 'Chad', 'Haiti', 'Iceland',\n",
       "       'Papua New Guinea', 'Benin', 'Nicaragua', 'Burundi', 'Liberia',\n",
       "       'Somalia', 'Guyana', 'Bahamas', 'Malawi', 'Gabon',\n",
       "       'Congo (Brazzaville)', 'Togo', 'Rwanda', 'Fiji Islands',\n",
       "       'Central Africa', 'Suriname', 'Mauritania', 'Bermuda', 'Eswatini',\n",
       "       'Lesotho', 'Botswana', 'Belize',\n",
       "       'Saint Vincent and the Grenadines', 'Saint Kitts and Nevis',\n",
       "       'Seychelles', 'Argentina', 'Equatorial Guinea', 'Egypt', 'Kuwait',\n",
       "       'Tunisia', 'El Salvador', 'Jordan', 'Paraguay', 'French Polynesia',\n",
       "       'New Caledonia', 'Brunei', 'Oman', 'Gambia', 'Indonesia', 'Mali',\n",
       "       'Solomon Islands', 'Saudi Arabia', 'Germany', 'Cuba', 'Qatar',\n",
       "       'Monaco', 'Malta', 'Liechtenstein', 'Guinea Bissau', 'Andorra',\n",
       "       'Greenland', 'Kiribati', 'Barbados', 'United Arab Emirates',\n",
       "       'Cyprus', 'Tonga', 'Mauritius', 'Saint Lucia',\n",
       "       'Antigua and Barbuda', 'Grenada', 'Vanuatu', 'Bulgaria', 'Angola',\n",
       "       'Mozambique', 'Bahrain', 'Namibia', 'Cape Verde', 'Bhutan',\n",
       "       'Comoros', 'Maldives', 'Ethiopia', 'Mongolia', 'Marshall Islands',\n",
       "       'Macao', 'Samoa', 'Micronesia (Federated States of)', 'Albania',\n",
       "       'Laos', 'Vietnam', 'Djibouti', 'Guinea', 'Aruba', 'Ukraine',\n",
       "       'Romania', 'Turkmenistan', 'Russia', 'Tanzania', 'Lebanon',\n",
       "       'Poland', 'Czech', 'Libya', 'Kazakhstan', 'Belarus', 'Slovenia',\n",
       "       'Uzbekistan', 'Slovakia', 'Azerbaijan', 'Georgia', 'Yemen',\n",
       "       'Macedonia', 'Moldova', 'Kyrgyzstan', 'Tajikistan', 'Armenia',\n",
       "       'Palau', 'Tuvalu', 'Hungary', 'Eritrea', 'Estonia', 'Palestine',\n",
       "       'Bosnia and Herzegovina', 'Croatia', 'Serbia', 'Lithuania',\n",
       "       'Latvia', 'Isle of man', 'Cayman Islands', 'Faroe Islands',\n",
       "       'Myanmar', 'San Marino', 'Montenegro', 'Timor Leste',\n",
       "       'Turks and Caicos Islands', 'Sao Tome and Principe.', 'Guam',\n",
       "       'Northern Mariana Islands', 'American Samoa', 'Nauru',\n",
       "       'South Sultan', 'Cura ç Ao', 'Netherlands Saint Martin'],\n",
       "      dtype=object)"
      ]
     },
     "execution_count": 11,
     "metadata": {},
     "output_type": "execute_result"
    }
   ],
   "source": [
    "gdp['country'].unique()"
   ]
  },
  {
   "cell_type": "code",
   "execution_count": 12,
   "id": "da785fc9",
   "metadata": {},
   "outputs": [
    {
     "data": {
      "text/html": [
       "<div>\n",
       "<style scoped>\n",
       "    .dataframe tbody tr th:only-of-type {\n",
       "        vertical-align: middle;\n",
       "    }\n",
       "\n",
       "    .dataframe tbody tr th {\n",
       "        vertical-align: top;\n",
       "    }\n",
       "\n",
       "    .dataframe thead th {\n",
       "        text-align: right;\n",
       "    }\n",
       "</style>\n",
       "<table border=\"1\" class=\"dataframe\">\n",
       "  <thead>\n",
       "    <tr style=\"text-align: right;\">\n",
       "      <th></th>\n",
       "      <th>country_name</th>\n",
       "      <th>country_code</th>\n",
       "    </tr>\n",
       "  </thead>\n",
       "  <tbody>\n",
       "    <tr>\n",
       "      <th>0</th>\n",
       "      <td>Aruba</td>\n",
       "      <td>ABW</td>\n",
       "    </tr>\n",
       "    <tr>\n",
       "      <th>1</th>\n",
       "      <td>Africa Eastern and Southern</td>\n",
       "      <td>AFE</td>\n",
       "    </tr>\n",
       "    <tr>\n",
       "      <th>2</th>\n",
       "      <td>Afghanistan</td>\n",
       "      <td>AFG</td>\n",
       "    </tr>\n",
       "    <tr>\n",
       "      <th>3</th>\n",
       "      <td>Africa Western and Central</td>\n",
       "      <td>AFW</td>\n",
       "    </tr>\n",
       "    <tr>\n",
       "      <th>4</th>\n",
       "      <td>Angola</td>\n",
       "      <td>AGO</td>\n",
       "    </tr>\n",
       "  </tbody>\n",
       "</table>\n",
       "</div>"
      ],
      "text/plain": [
       "                  country_name country_code\n",
       "0                        Aruba          ABW\n",
       "1  Africa Eastern and Southern          AFE\n",
       "2                  Afghanistan          AFG\n",
       "3   Africa Western and Central          AFW\n",
       "4                       Angola          AGO"
      ]
     },
     "execution_count": 12,
     "metadata": {},
     "output_type": "execute_result"
    }
   ],
   "source": [
    "contry_code.head()"
   ]
  },
  {
   "cell_type": "code",
   "execution_count": 13,
   "id": "866d9d3e",
   "metadata": {},
   "outputs": [
    {
     "data": {
      "text/html": [
       "<div>\n",
       "<style scoped>\n",
       "    .dataframe tbody tr th:only-of-type {\n",
       "        vertical-align: middle;\n",
       "    }\n",
       "\n",
       "    .dataframe tbody tr th {\n",
       "        vertical-align: top;\n",
       "    }\n",
       "\n",
       "    .dataframe thead th {\n",
       "        text-align: right;\n",
       "    }\n",
       "</style>\n",
       "<table border=\"1\" class=\"dataframe\">\n",
       "  <thead>\n",
       "    <tr style=\"text-align: right;\">\n",
       "      <th></th>\n",
       "      <th>year</th>\n",
       "      <th>rank</th>\n",
       "      <th>country</th>\n",
       "      <th>state</th>\n",
       "      <th>gdp</th>\n",
       "      <th>gdp_percent</th>\n",
       "    </tr>\n",
       "  </thead>\n",
       "  <tbody>\n",
       "    <tr>\n",
       "      <th>7</th>\n",
       "      <td>1960</td>\n",
       "      <td>8</td>\n",
       "      <td>India</td>\n",
       "      <td>Asia</td>\n",
       "      <td>37029883875</td>\n",
       "      <td>0.031931</td>\n",
       "    </tr>\n",
       "    <tr>\n",
       "      <th>110</th>\n",
       "      <td>1961</td>\n",
       "      <td>8</td>\n",
       "      <td>India</td>\n",
       "      <td>Asia</td>\n",
       "      <td>39232435784</td>\n",
       "      <td>0.032502</td>\n",
       "    </tr>\n",
       "    <tr>\n",
       "      <th>213</th>\n",
       "      <td>1962</td>\n",
       "      <td>8</td>\n",
       "      <td>India</td>\n",
       "      <td>Asia</td>\n",
       "      <td>42161481858</td>\n",
       "      <td>0.031930</td>\n",
       "    </tr>\n",
       "    <tr>\n",
       "      <th>317</th>\n",
       "      <td>1963</td>\n",
       "      <td>7</td>\n",
       "      <td>India</td>\n",
       "      <td>Asia</td>\n",
       "      <td>48421923458</td>\n",
       "      <td>0.034050</td>\n",
       "    </tr>\n",
       "    <tr>\n",
       "      <th>422</th>\n",
       "      <td>1964</td>\n",
       "      <td>7</td>\n",
       "      <td>India</td>\n",
       "      <td>Asia</td>\n",
       "      <td>56480289940</td>\n",
       "      <td>0.036255</td>\n",
       "    </tr>\n",
       "    <tr>\n",
       "      <th>...</th>\n",
       "      <td>...</td>\n",
       "      <td>...</td>\n",
       "      <td>...</td>\n",
       "      <td>...</td>\n",
       "      <td>...</td>\n",
       "      <td>...</td>\n",
       "    </tr>\n",
       "    <tr>\n",
       "      <th>9153</th>\n",
       "      <td>2016</td>\n",
       "      <td>7</td>\n",
       "      <td>India</td>\n",
       "      <td>Asia</td>\n",
       "      <td>2294797980509</td>\n",
       "      <td>0.030479</td>\n",
       "    </tr>\n",
       "    <tr>\n",
       "      <th>9357</th>\n",
       "      <td>2017</td>\n",
       "      <td>6</td>\n",
       "      <td>India</td>\n",
       "      <td>Asia</td>\n",
       "      <td>2651472946375</td>\n",
       "      <td>0.033085</td>\n",
       "    </tr>\n",
       "    <tr>\n",
       "      <th>9562</th>\n",
       "      <td>2018</td>\n",
       "      <td>7</td>\n",
       "      <td>India</td>\n",
       "      <td>Asia</td>\n",
       "      <td>2701111782774</td>\n",
       "      <td>0.031710</td>\n",
       "    </tr>\n",
       "    <tr>\n",
       "      <th>9764</th>\n",
       "      <td>2019</td>\n",
       "      <td>5</td>\n",
       "      <td>India</td>\n",
       "      <td>Asia</td>\n",
       "      <td>2870504096717</td>\n",
       "      <td>0.033278</td>\n",
       "    </tr>\n",
       "    <tr>\n",
       "      <th>9963</th>\n",
       "      <td>2020</td>\n",
       "      <td>5</td>\n",
       "      <td>India</td>\n",
       "      <td>Asia</td>\n",
       "      <td>2622983732006</td>\n",
       "      <td>0.033827</td>\n",
       "    </tr>\n",
       "  </tbody>\n",
       "</table>\n",
       "<p>61 rows × 6 columns</p>\n",
       "</div>"
      ],
      "text/plain": [
       "      year  rank country state            gdp  gdp_percent\n",
       "7     1960     8   India  Asia    37029883875     0.031931\n",
       "110   1961     8   India  Asia    39232435784     0.032502\n",
       "213   1962     8   India  Asia    42161481858     0.031930\n",
       "317   1963     7   India  Asia    48421923458     0.034050\n",
       "422   1964     7   India  Asia    56480289940     0.036255\n",
       "...    ...   ...     ...   ...            ...          ...\n",
       "9153  2016     7   India  Asia  2294797980509     0.030479\n",
       "9357  2017     6   India  Asia  2651472946375     0.033085\n",
       "9562  2018     7   India  Asia  2701111782774     0.031710\n",
       "9764  2019     5   India  Asia  2870504096717     0.033278\n",
       "9963  2020     5   India  Asia  2622983732006     0.033827\n",
       "\n",
       "[61 rows x 6 columns]"
      ]
     },
     "execution_count": 13,
     "metadata": {},
     "output_type": "execute_result"
    }
   ],
   "source": [
    "india_gdp=gdp[gdp['country']=='India']\n",
    "india_gdp"
   ]
  },
  {
   "cell_type": "code",
   "execution_count": 20,
   "id": "4475c440",
   "metadata": {},
   "outputs": [
    {
     "name": "stderr",
     "output_type": "stream",
     "text": [
      "C:\\Users\\AVANISH SINGH\\AppData\\Roaming\\Python\\Python38\\site-packages\\pandas\\core\\frame.py:4906: SettingWithCopyWarning: \n",
      "A value is trying to be set on a copy of a slice from a DataFrame\n",
      "\n",
      "See the caveats in the documentation: https://pandas.pydata.org/pandas-docs/stable/user_guide/indexing.html#returning-a-view-versus-a-copy\n",
      "  return super().drop(\n"
     ]
    }
   ],
   "source": [
    "india_gdp.drop(['rank','state','gdp_percent'], axis = 1, inplace = True)"
   ]
  },
  {
   "cell_type": "code",
   "execution_count": 21,
   "id": "e9bf24fc",
   "metadata": {},
   "outputs": [
    {
     "data": {
      "text/html": [
       "<div>\n",
       "<style scoped>\n",
       "    .dataframe tbody tr th:only-of-type {\n",
       "        vertical-align: middle;\n",
       "    }\n",
       "\n",
       "    .dataframe tbody tr th {\n",
       "        vertical-align: top;\n",
       "    }\n",
       "\n",
       "    .dataframe thead th {\n",
       "        text-align: right;\n",
       "    }\n",
       "</style>\n",
       "<table border=\"1\" class=\"dataframe\">\n",
       "  <thead>\n",
       "    <tr style=\"text-align: right;\">\n",
       "      <th></th>\n",
       "      <th>year</th>\n",
       "      <th>country</th>\n",
       "      <th>gdp</th>\n",
       "    </tr>\n",
       "  </thead>\n",
       "  <tbody>\n",
       "    <tr>\n",
       "      <th>7</th>\n",
       "      <td>1960</td>\n",
       "      <td>India</td>\n",
       "      <td>37029883875</td>\n",
       "    </tr>\n",
       "    <tr>\n",
       "      <th>110</th>\n",
       "      <td>1961</td>\n",
       "      <td>India</td>\n",
       "      <td>39232435784</td>\n",
       "    </tr>\n",
       "    <tr>\n",
       "      <th>213</th>\n",
       "      <td>1962</td>\n",
       "      <td>India</td>\n",
       "      <td>42161481858</td>\n",
       "    </tr>\n",
       "    <tr>\n",
       "      <th>317</th>\n",
       "      <td>1963</td>\n",
       "      <td>India</td>\n",
       "      <td>48421923458</td>\n",
       "    </tr>\n",
       "    <tr>\n",
       "      <th>422</th>\n",
       "      <td>1964</td>\n",
       "      <td>India</td>\n",
       "      <td>56480289940</td>\n",
       "    </tr>\n",
       "    <tr>\n",
       "      <th>...</th>\n",
       "      <td>...</td>\n",
       "      <td>...</td>\n",
       "      <td>...</td>\n",
       "    </tr>\n",
       "    <tr>\n",
       "      <th>9153</th>\n",
       "      <td>2016</td>\n",
       "      <td>India</td>\n",
       "      <td>2294797980509</td>\n",
       "    </tr>\n",
       "    <tr>\n",
       "      <th>9357</th>\n",
       "      <td>2017</td>\n",
       "      <td>India</td>\n",
       "      <td>2651472946375</td>\n",
       "    </tr>\n",
       "    <tr>\n",
       "      <th>9562</th>\n",
       "      <td>2018</td>\n",
       "      <td>India</td>\n",
       "      <td>2701111782774</td>\n",
       "    </tr>\n",
       "    <tr>\n",
       "      <th>9764</th>\n",
       "      <td>2019</td>\n",
       "      <td>India</td>\n",
       "      <td>2870504096717</td>\n",
       "    </tr>\n",
       "    <tr>\n",
       "      <th>9963</th>\n",
       "      <td>2020</td>\n",
       "      <td>India</td>\n",
       "      <td>2622983732006</td>\n",
       "    </tr>\n",
       "  </tbody>\n",
       "</table>\n",
       "<p>61 rows × 3 columns</p>\n",
       "</div>"
      ],
      "text/plain": [
       "      year country            gdp\n",
       "7     1960   India    37029883875\n",
       "110   1961   India    39232435784\n",
       "213   1962   India    42161481858\n",
       "317   1963   India    48421923458\n",
       "422   1964   India    56480289940\n",
       "...    ...     ...            ...\n",
       "9153  2016   India  2294797980509\n",
       "9357  2017   India  2651472946375\n",
       "9562  2018   India  2701111782774\n",
       "9764  2019   India  2870504096717\n",
       "9963  2020   India  2622983732006\n",
       "\n",
       "[61 rows x 3 columns]"
      ]
     },
     "execution_count": 21,
     "metadata": {},
     "output_type": "execute_result"
    }
   ],
   "source": [
    "india_gdp"
   ]
  },
  {
   "cell_type": "code",
   "execution_count": 22,
   "id": "5d7862b6",
   "metadata": {},
   "outputs": [
    {
     "data": {
      "image/png": "[encoded data removed]",
      "text/plain": [
       "<Figure size 720x504 with 1 Axes>"
      ]
     },
     "metadata": {
      "needs_background": "light"
     },
     "output_type": "display_data"
    }
   ],
   "source": [
    "plt.figure(figsize = (10,7))\n",
    "sns.barplot(x = 'year',\n",
    "y = 'gdp',\n",
    "hue = 'country',\n",
    "data = india_gdp)\n",
    "plt.xticks(rotation = 90)\n",
    "plt.title(\"India's GDP\")\n",
    "plt.show()"
   ]
  },
  {
   "cell_type": "code",
   "execution_count": 23,
   "id": "5c6fadf9",
   "metadata": {},
   "outputs": [],
   "source": [
    "x1 = india_gdp.drop(['gdp', 'country'], axis=1)\n",
    "y1 = india_gdp['gdp']"
   ]
  },
  {
   "cell_type": "code",
   "execution_count": 24,
   "id": "9ddfe74b",
   "metadata": {},
   "outputs": [
    {
     "name": "stdout",
     "output_type": "stream",
     "text": [
      "(61, 1)\n",
      "(61,)\n"
     ]
    }
   ],
   "source": [
    "print(x1.shape)\n",
    "print(y1.shape)"
   ]
  },
  {
   "cell_type": "code",
   "execution_count": 25,
   "id": "b7d621d2",
   "metadata": {},
   "outputs": [],
   "source": [
    "from sklearn.linear_model import LinearRegression\n",
    "from sklearn.model_selection import train_test_split\n",
    "X_train, X_test, y_train, y_test = train_test_split(x1, y1, test_size = 0.2)"
   ]
  },
  {
   "cell_type": "code",
   "execution_count": 26,
   "id": "647178d7",
   "metadata": {},
   "outputs": [
    {
     "data": {
      "text/plain": [
       "LinearRegression()"
      ]
     },
     "execution_count": 26,
     "metadata": {},
     "output_type": "execute_result"
    }
   ],
   "source": [
    "model_india=LinearRegression()\n",
    "model_india.fit(x1,y1)"
   ]
  },
  {
   "cell_type": "code",
   "execution_count": 27,
   "id": "15ae26b2",
   "metadata": {},
   "outputs": [
    {
     "name": "stdout",
     "output_type": "stream",
     "text": [
      "Coefficient:  [3.87539925e+10]\n",
      "intercept:  -76462096733309.64\n"
     ]
    }
   ],
   "source": [
    "print(\"Coefficient: \",model_india.coef_)\n",
    "print(\"intercept: \",model_india.intercept_)\n",
    "pred = model_india.predict(x1)"
   ]
  },
  {
   "cell_type": "code",
   "execution_count": 29,
   "id": "e869805b",
   "metadata": {},
   "outputs": [
    {
     "data": {
      "image/png": "[encoded data removed]",
      "text/plain": [
       "<Figure size 576x432 with 1 Axes>"
      ]
     },
     "metadata": {
      "needs_background": "light"
     },
     "output_type": "display_data"
    }
   ],
   "source": [
    "plt.figure(figsize=(8,6))\n",
    "plt.scatter(x1,y1,label='Acutal value')\n",
    "plt.plot(x1,pred,color='tab:orange',label='Predicted value')\n",
    "plt.legend()\n",
    "plt.title(\"India\",color='m')\n",
    "plt.xlabel(\"Years\",color='r')\n",
    "plt.ylabel(\"per year INDIAN gdp\",color='c')\n",
    "plt.tight_layout()\n",
    "plt.show()"
   ]
  },
  {
   "cell_type": "code",
   "execution_count": 30,
   "id": "f24683d6",
   "metadata": {},
   "outputs": [
    {
     "name": "stdout",
     "output_type": "stream",
     "text": [
      "[1.85972215e+12]\n",
      "[1.89847614e+12]\n",
      "[1.93723013e+12]\n",
      "[1.97598412e+12]\n",
      "[2.01473812e+12]\n"
     ]
    },
    {
     "name": "stderr",
     "output_type": "stream",
     "text": [
      "C:\\Users\\AVANISH SINGH\\AppData\\Roaming\\Python\\Python38\\site-packages\\sklearn\\base.py:450: UserWarning: X does not have valid feature names, but LinearRegression was fitted with feature names\n",
      "  warnings.warn(\n",
      "C:\\Users\\AVANISH SINGH\\AppData\\Roaming\\Python\\Python38\\site-packages\\sklearn\\base.py:450: UserWarning: X does not have valid feature names, but LinearRegression was fitted with feature names\n",
      "  warnings.warn(\n",
      "C:\\Users\\AVANISH SINGH\\AppData\\Roaming\\Python\\Python38\\site-packages\\sklearn\\base.py:450: UserWarning: X does not have valid feature names, but LinearRegression was fitted with feature names\n",
      "  warnings.warn(\n",
      "C:\\Users\\AVANISH SINGH\\AppData\\Roaming\\Python\\Python38\\site-packages\\sklearn\\base.py:450: UserWarning: X does not have valid feature names, but LinearRegression was fitted with feature names\n",
      "  warnings.warn(\n",
      "C:\\Users\\AVANISH SINGH\\AppData\\Roaming\\Python\\Python38\\site-packages\\sklearn\\base.py:450: UserWarning: X does not have valid feature names, but LinearRegression was fitted with feature names\n",
      "  warnings.warn(\n"
     ]
    }
   ],
   "source": [
    "years=[2021,2022,2023,2024,2025]\n",
    "for i in years:\n",
    "    print(model_india.predict([[i]]))"
   ]
  },
  {
   "cell_type": "code",
   "execution_count": 31,
   "id": "f8ec2a03",
   "metadata": {},
   "outputs": [
    {
     "data": {
      "text/plain": [
       "LogisticRegression()"
      ]
     },
     "execution_count": 31,
     "metadata": {},
     "output_type": "execute_result"
    }
   ],
   "source": [
    "from sklearn.linear_model import LogisticRegression\n",
    "logimodel_india=LogisticRegression()\n",
    "logimodel_india.fit(x1,y1)"
   ]
  },
  {
   "cell_type": "code",
   "execution_count": 35,
   "id": "d71af2b3",
   "metadata": {},
   "outputs": [],
   "source": [
    "pred_logi = logimodel_india.predict(x1)"
   ]
  },
  {
   "cell_type": "code",
   "execution_count": 36,
   "id": "70021d80",
   "metadata": {},
   "outputs": [
    {
     "data": {
      "image/png": "[encoded data removed]",
      "text/plain": [
       "<Figure size 576x432 with 1 Axes>"
      ]
     },
     "metadata": {
      "needs_background": "light"
     },
     "output_type": "display_data"
    }
   ],
   "source": [
    "plt.figure(figsize=(8,6))\n",
    "plt.scatter(x1,y1,label='Acutal value')\n",
    "plt.plot(x1,pred_logi,color='tab:orange',label='Predicted value')\n",
    "plt.legend()\n",
    "plt.title(\"India\",color='m')\n",
    "plt.xlabel(\"Years\",color='r')\n",
    "plt.ylabel(\"per year INDIAN gdp\",color='c')\n",
    "plt.tight_layout()\n",
    "plt.show()"
   ]
  },
  {
   "cell_type": "code",
   "execution_count": 37,
   "id": "b1fd34d0",
   "metadata": {},
   "outputs": [
    {
     "name": "stdout",
     "output_type": "stream",
     "text": [
      "[2622983732006]\n",
      "[2622983732006]\n",
      "[2622983732006]\n",
      "[2622983732006]\n",
      "[2622983732006]\n"
     ]
    },
    {
     "name": "stderr",
     "output_type": "stream",
     "text": [
      "C:\\Users\\AVANISH SINGH\\AppData\\Roaming\\Python\\Python38\\site-packages\\sklearn\\base.py:450: UserWarning: X does not have valid feature names, but LogisticRegression was fitted with feature names\n",
      "  warnings.warn(\n",
      "C:\\Users\\AVANISH SINGH\\AppData\\Roaming\\Python\\Python38\\site-packages\\sklearn\\base.py:450: UserWarning: X does not have valid feature names, but LogisticRegression was fitted with feature names\n",
      "  warnings.warn(\n",
      "C:\\Users\\AVANISH SINGH\\AppData\\Roaming\\Python\\Python38\\site-packages\\sklearn\\base.py:450: UserWarning: X does not have valid feature names, but LogisticRegression was fitted with feature names\n",
      "  warnings.warn(\n",
      "C:\\Users\\AVANISH SINGH\\AppData\\Roaming\\Python\\Python38\\site-packages\\sklearn\\base.py:450: UserWarning: X does not have valid feature names, but LogisticRegression was fitted with feature names\n",
      "  warnings.warn(\n",
      "C:\\Users\\AVANISH SINGH\\AppData\\Roaming\\Python\\Python38\\site-packages\\sklearn\\base.py:450: UserWarning: X does not have valid feature names, but LogisticRegression was fitted with feature names\n",
      "  warnings.warn(\n"
     ]
    }
   ],
   "source": [
    "years=[2021,2022,2023,2024,2025]\n",
    "for i in years:\n",
    "    print(logimodel_india.predict([[i]]))"
   ]
  },
  {
   "cell_type": "code",
   "execution_count": null,
   "id": "4aebece4",
   "metadata": {},
   "outputs": [],
   "source": []
  }
 ],
 "metadata": {
  "kernelspec": {
   "display_name": "Python 3 (ipykernel)",
   "language": "python",
   "name": "python3"
  },
  "language_info": {
   "codemirror_mode": {
    "name": "ipython",
    "version": 3
   },
   "file_extension": ".py",
   "mimetype": "text/x-python",
   "name": "python",
   "nbconvert_exporter": "python",
   "pygments_lexer": "ipython3",
   "version": "3.8.8"
  }
 },
 "nbformat": 4,
 "nbformat_minor": 5
}
